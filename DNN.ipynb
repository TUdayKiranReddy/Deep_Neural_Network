{
  "nbformat": 4,
  "nbformat_minor": 0,
  "metadata": {
    "colab": {
      "name": "DNN.ipynb",
      "provenance": [],
      "collapsed_sections": []
    },
    "kernelspec": {
      "name": "python3",
      "display_name": "Python 3"
    }
  },
  "cells": [
    {
      "cell_type": "code",
      "metadata": {
        "id": "JxHhHDP8hCqg",
        "colab_type": "code",
        "colab": {}
      },
      "source": [
        "import numpy as np\n",
        "import matplotlib.pyplot as plt\n",
        "%tensorflow_version 1.x\n",
        "import tensorflow as tf\n",
        "import h5py\n",
        "from tensorflow.python.framework import ops\n",
        "import pandas as pd\n",
        "from sklearn.preprocessing import*\n",
        "%matplotlib inline"
      ],
      "execution_count": 0,
      "outputs": []
    },
    {
      "cell_type": "code",
      "metadata": {
        "id": "396mvva9hEC5",
        "colab_type": "code",
        "outputId": "e463b911-68f1-4967-f7f9-d294a59931a7",
        "colab": {
          "base_uri": "https://localhost:8080/",
          "height": 187
        }
      },
      "source": [
        "!pip show tensorflow"
      ],
      "execution_count": 33,
      "outputs": [
        {
          "output_type": "stream",
          "text": [
            "Name: tensorflow\n",
            "Version: 1.15.2\n",
            "Summary: TensorFlow is an open source machine learning framework for everyone.\n",
            "Home-page: https://www.tensorflow.org/\n",
            "Author: Google Inc.\n",
            "Author-email: packages@tensorflow.org\n",
            "License: Apache 2.0\n",
            "Location: /tensorflow-1.15.2/python3.6\n",
            "Requires: tensorboard, wrapt, gast, numpy, grpcio, termcolor, astor, six, opt-einsum, google-pasta, tensorflow-estimator, absl-py, wheel, keras-preprocessing, keras-applications, protobuf\n",
            "Required-by: stable-baselines, magenta, fancyimpute\n"
          ],
          "name": "stdout"
        }
      ]
    },
    {
      "cell_type": "code",
      "metadata": {
        "id": "P77dxpMbhKI7",
        "colab_type": "code",
        "colab": {}
      },
      "source": [
        "def createplaceholder(n_x,n_y):\n",
        "    \n",
        "    X = tf.placeholder(dtype=tf.float32,shape=[n_x,None],name = 'X')\n",
        "    Y = tf.placeholder(dtype=tf.float32,shape=[n_y,None],name = 'Y')\n",
        "    \n",
        "    return X,Y"
      ],
      "execution_count": 0,
      "outputs": []
    },
    {
      "cell_type": "code",
      "metadata": {
        "id": "Yrwppr-nhPeD",
        "colab_type": "code",
        "colab": {}
      },
      "source": [
        "def initialize_parameters(layer_dims):\n",
        "    \n",
        "    parameters = {}\n",
        "    #\n",
        "    for i in range(len(layer_dims)-2):\n",
        "        \n",
        "        parameters[\"W\"+str(i+1)] = tf.get_variable(\"W\"+str(i+1),[layer_dims[i+1],layer_dims[i]],initializer = tf.contrib.layers.xavier_initializer(seed =1))\n",
        "        parameters[\"b\"+str(i+1)] = tf.get_variable(\"b\"+str(i+1),[layer_dims[i+1],1],initializer = tf.zeros_initializer())\n",
        "\n",
        "    \n",
        "    return parameters"
      ],
      "execution_count": 0,
      "outputs": []
    },
    {
      "cell_type": "code",
      "metadata": {
        "id": "RcPg2mtXhUQk",
        "colab_type": "code",
        "outputId": "6af01ed4-1ebe-41e1-fc12-b88974aa54a6",
        "colab": {
          "base_uri": "https://localhost:8080/",
          "height": 54
        }
      },
      "source": [
        "tf.reset_default_graph()\n",
        "print(initialize_parameters([12288,25,12,6,1]))"
      ],
      "execution_count": 36,
      "outputs": [
        {
          "output_type": "stream",
          "text": [
            "{'W1': <tf.Variable 'W1:0' shape=(25, 12288) dtype=float32_ref>, 'b1': <tf.Variable 'b1:0' shape=(25, 1) dtype=float32_ref>, 'W2': <tf.Variable 'W2:0' shape=(12, 25) dtype=float32_ref>, 'b2': <tf.Variable 'b2:0' shape=(12, 1) dtype=float32_ref>, 'W3': <tf.Variable 'W3:0' shape=(6, 12) dtype=float32_ref>, 'b3': <tf.Variable 'b3:0' shape=(6, 1) dtype=float32_ref>}\n"
          ],
          "name": "stdout"
        }
      ]
    },
    {
      "cell_type": "code",
      "metadata": {
        "id": "f5gpKZJrhanT",
        "colab_type": "code",
        "colab": {}
      },
      "source": [
        "##activations = ['relu','relu','relu','sigmoid']##\n",
        "def forward_propagation(X,layer_dims,parameters):\n",
        "\n",
        "  outputs  ={}\n",
        "  inputs = {}\n",
        "  inputs[\"A0\"] = X\n",
        "\n",
        "  for i in range(1,len(layer_dims) -1):\n",
        "    outputs[\"Z\" + str(i)] = tf.add(tf.matmul(parameters[\"W\" + str(i)],inputs[\"A\" + str(i-1)]),parameters[\"b\" + str(i)])\n",
        "    if(i != len(layer_dims) - 2):\n",
        "      inputs[\"A\"+str(i)] = tf.nn.relu(outputs[\"Z\" + str(i)])\n",
        "  return outputs[\"Z\"+str(len(layer_dims) -2 )]"
      ],
      "execution_count": 0,
      "outputs": []
    },
    {
      "cell_type": "code",
      "metadata": {
        "id": "8VqAmRJNKlmB",
        "colab_type": "code",
        "outputId": "22ccf801-b53c-4594-f53f-ed9aedc73003",
        "colab": {
          "base_uri": "https://localhost:8080/",
          "height": 34
        }
      },
      "source": [
        "tf.reset_default_graph()\n",
        "parameters = initialize_parameters([3,4,5,6,1])\n",
        "X,Y= createplaceholder(3,1)\n",
        "print(forward_propagation(X,[3,4,5,6,1],parameters))"
      ],
      "execution_count": 38,
      "outputs": [
        {
          "output_type": "stream",
          "text": [
            "Tensor(\"Add_2:0\", shape=(6, ?), dtype=float32)\n"
          ],
          "name": "stdout"
        }
      ]
    },
    {
      "cell_type": "code",
      "metadata": {
        "id": "BDTjU4q-MDyk",
        "colab_type": "code",
        "colab": {}
      },
      "source": [
        "def compute_cost(ZL,Y):\n",
        "\n",
        "  logits = tf.transpose(ZL)\n",
        "  labels = tf.transpose(Y)\n",
        "\n",
        "  cost = tf.reduce_mean(tf.nn.softmax_cross_entropy_with_logits(logits = logits,labels = labels))\n",
        "\n",
        "  return cost\n"
      ],
      "execution_count": 0,
      "outputs": []
    },
    {
      "cell_type": "code",
      "metadata": {
        "id": "5S_Oshu5u5wy",
        "colab_type": "code",
        "outputId": "b40eced6-bc4a-4bcf-a8b6-c0453fbe68f3",
        "colab": {
          "base_uri": "https://localhost:8080/",
          "height": 34
        }
      },
      "source": [
        "tf.reset_default_graph()\n",
        "parameters = initialize_parameters([3,4,5,6,1])\n",
        "X,Y = createplaceholder(3,1)\n",
        "print(compute_cost(forward_propagation(X,[3,4,5,6,1],parameters),Y))"
      ],
      "execution_count": 40,
      "outputs": [
        {
          "output_type": "stream",
          "text": [
            "Tensor(\"Mean:0\", shape=(), dtype=float32)\n"
          ],
          "name": "stdout"
        }
      ]
    },
    {
      "cell_type": "code",
      "metadata": {
        "id": "ZUaub9nIyibd",
        "colab_type": "code",
        "colab": {}
      },
      "source": [
        "def random_minibatches(X,Y,minibatch_size,seed):\n",
        "  np.random.seed(seed)\n",
        "  m = X.shape[1]\n",
        "  minibatches = []\n",
        "\n",
        "  permutations = list(np.random.permutation(m))\n",
        "  shuffled_X = X[:,permutations]\n",
        "  shuffled_Y = Y[:,permutations].reshape((Y.shape[0],m))\n",
        "\n",
        "  complete_batch = int(m/minibatch_size)\n",
        "\n",
        "  for i in range(complete_batch):\n",
        "    minibatch_X = shuffled_X[:,i*minibatch_size:(i+1)*minibatch_size]\n",
        "    minibatch_Y = shuffled_Y[:,i*minibatch_size:(i+1)*minibatch_size]\n",
        "    minibatch = (minibatch_X,minibatch_Y)\n",
        "    minibatches.append(minibatch)\n",
        "\n",
        "  if(m%minibatch_size != 0):\n",
        "    minibatch_X = shuffled_X[:,complete_batch*minibatch_size:m]\n",
        "    minibatch_Y = shuffled_Y[:,complete_batch*minibatch_size:m]\n",
        "    minibatch = (minibatch_X,minibatch_Y)\n",
        "    minibatches.append(minibatch)\n",
        "  \n",
        "  return minibatches\n",
        "\n"
      ],
      "execution_count": 0,
      "outputs": []
    },
    {
      "cell_type": "code",
      "metadata": {
        "id": "gmpzsiqi8ght",
        "colab_type": "code",
        "outputId": "0f3c9503-4525-449f-fdea-8af778489add",
        "colab": {
          "base_uri": "https://localhost:8080/",
          "height": 102
        }
      },
      "source": [
        "X = np.matrix([[1,0,2,6],[1,0,2,6],[1,0,2,6]])\n",
        "Y = np.array([1,2,3,4]).reshape(1,4)\n",
        "print(random_minibatches(X,Y,3,2))"
      ],
      "execution_count": 42,
      "outputs": [
        {
          "output_type": "stream",
          "text": [
            "[(matrix([[2, 6, 0],\n",
            "        [2, 6, 0],\n",
            "        [2, 6, 0]]), array([[3, 4, 2]])), (matrix([[1],\n",
            "        [1],\n",
            "        [1]]), array([[1]]))]\n"
          ],
          "name": "stdout"
        }
      ]
    },
    {
      "cell_type": "code",
      "metadata": {
        "id": "3vgDx7A6vNUs",
        "colab_type": "code",
        "colab": {}
      },
      "source": [
        "def model(X_train , Y_train , X_test , Y_test , layer_dims , optimizer , learning_rate = 0.0001 , epochs = 1500 , minibatch_size = 32 ,print_cost = True):\n",
        "\n",
        "  ops.reset_default_graph()\n",
        "  tf.set_random_seed(1)\n",
        "  seed = 3\n",
        "\n",
        "  (n_x,m) = X_train.shape\n",
        "  n_y = Y_train.shape[0]\n",
        "  costs =[]\n",
        "\n",
        "  X,Y = createplaceholder(n_x,n_y)\n",
        "\n",
        "  parameters = initialize_parameters(layer_dims)\n",
        "\n",
        "  ZL = forward_propagation(X,layer_dims,parameters)\n",
        "\n",
        "  cost = compute_cost(ZL,Y)\n",
        "  \n",
        "  if(optimizer == 'adam'):\n",
        "    optimizer = tf.train.AdamOptimizer(learning_rate = learning_rate).minimize(cost)\n",
        "  elif(optimizer == 'gd'):\n",
        "    optimizer = tf.train.GradientDescentOptimizer(learning_rate = learning_rate).minimize(cost)\n",
        "  \n",
        "  init = tf.global_variables_initializer()\n",
        "\n",
        "  with tf.Session() as sess:\n",
        "\n",
        "    sess.run(init)\n",
        "\n",
        "    for epoch in range(epochs):\n",
        "        \n",
        "        epoch_cost = 0.\n",
        "        seed +=1\n",
        "        num_minibatches = int(m/ minibatch_size)\n",
        "        minibatches = random_minibatches(X_train , Y_train , minibatch_size,seed)\n",
        "\n",
        "        for minibatch in minibatches:\n",
        "          (minibatch_X,minibatch_Y) = minibatch\n",
        "\n",
        "          _, minibatch_cost = sess.run([optimizer , cost],feed_dict = {X:minibatch_X,Y:minibatch_Y})\n",
        "\n",
        "          epoch_cost +=   minibatch_cost / minibatch_size\n",
        "\n",
        "        if print_cost == True and epoch % 100 ==0:\n",
        "          print(\"Cost after epoch \"+str(epoch)+\" is \"+str(epoch_cost))\n",
        "        if print_cost == True and epoch % 5 == 0:\n",
        "          costs.append(epoch_cost)\n",
        "        \n",
        "    plt.plot(np.squeeze(costs))\n",
        "    plt.ylabel('Cost')\n",
        "    plt.xlabel('#iterations(per Five)')\n",
        "    plt.title('Learninig Rate ='+str(learning_rate))\n",
        "    plt.show()\n",
        "\n",
        "    parameters = sess.run(parameters)\n",
        "\n",
        "    correct_prediction = tf.equal(tf.argmax(ZL),tf.argmax(Y))\n",
        "\n",
        "    accuracy = tf.reduce_mean(tf.cast(correct_prediction,'float'))\n",
        "\n",
        "    print(\"Train Accuracy : \",(accuracy.eval({X : X_train , Y : Y_train})*100))\n",
        "    print(\"Test Accuracy : \",(accuracy.eval({X : X_test , Y : Y_test})*100))\n",
        "    return parameters\n"
      ],
      "execution_count": 0,
      "outputs": []
    },
    {
      "cell_type": "code",
      "metadata": {
        "id": "Jzh7dB69PIcL",
        "colab_type": "code",
        "colab": {}
      },
      "source": [
        "def predict(X,layer_dims,parameters):\n",
        "  x = tf.placeholder('float',X.shape)\n",
        "\n",
        "  ZL = forward_propagation(x,layer_dims,parameters)\n",
        "\n",
        "  p = tf.nn.softmax(ZL,axis = 0)\n",
        "\n",
        "  with tf.Session() as sess:\n",
        "    prediction = sess.run(p,feed_dict = {x:X})\n",
        "\n",
        "    return  prediction"
      ],
      "execution_count": 0,
      "outputs": []
    },
    {
      "cell_type": "code",
      "metadata": {
        "id": "la3jh3VgZW4W",
        "colab_type": "code",
        "colab": {}
      },
      "source": [
        "def csv_to_numpy_dataset(path,breakage = None):\n",
        "  Data = pd.read_csv(path)\n",
        "\n",
        "  dataset = Data.to_numpy()\n",
        "  Size = dataset.shape\n",
        "  X = dataset[:,:(Size[1] - 1)].reshape((Size[1] - 1),Size[0])\n",
        "  Y = dataset[:,(Size[1] - 1)].reshape(1,Size[0])\n",
        "  if breakage is not None:\n",
        "    X_train = np.split(X,breakage)[0]\n",
        "    X_dev = np.split(X,breakage)[1]\n",
        "    Y_train = np.split(Y,breakage)[0]\n",
        "    Y_dev = np.split(Y,breakage)[1]\n",
        "    return X_train ,Y_train ,X_dev, Y_dev\n",
        "  return X,Y"
      ],
      "execution_count": 0,
      "outputs": []
    },
    {
      "cell_type": "code",
      "metadata": {
        "id": "ssj-5CNXxXbC",
        "colab_type": "code",
        "colab": {}
      },
      "source": [
        "def one_hot_encoding(Y):\n",
        "  a = []\n",
        "  for i in range(Y.shape[1]):\n",
        "    if Y[0][i] == 'Iris-setosa':\n",
        "      a.append([0,0])\n",
        "    elif Y[0][i] == 'Iris-virginica':\n",
        "      a.append([1,0])\n",
        "    else:\n",
        "      a.append([0,1])\n",
        "  #a = OneHotEncoder(a).categories\n",
        "  return np.array(a).reshape(2,Y.shape[1])"
      ],
      "execution_count": 0,
      "outputs": []
    },
    {
      "cell_type": "code",
      "metadata": {
        "id": "g9Y2hYxMIwg-",
        "colab_type": "code",
        "colab": {}
      },
      "source": [
        "def load_dataset():\n",
        "    train_dataset = h5py.File('train_signs.h5', \"r\")\n",
        "    train_set_x_orig = np.array(train_dataset[\"train_set_x\"][:]) # your train set features\n",
        "    train_set_y_orig = np.array(train_dataset[\"train_set_y\"][:]) # your train set labels\n",
        "\n",
        "    test_dataset = h5py.File('test_signs.h5', \"r\")\n",
        "    test_set_x_orig = np.array(test_dataset[\"test_set_x\"][:]) # your test set features\n",
        "    test_set_y_orig = np.array(test_dataset[\"test_set_y\"][:]) # your test set labels\n",
        "\n",
        "    classes = np.array(test_dataset[\"list_classes\"][:]) # the list of classes\n",
        "    \n",
        "    train_set_y_orig = train_set_y_orig.reshape((1, train_set_y_orig.shape[0]))\n",
        "    test_set_y_orig = test_set_y_orig.reshape((1, test_set_y_orig.shape[0]))\n",
        "    \n",
        "    return train_set_x_orig, train_set_y_orig, test_set_x_orig, test_set_y_orig, classes"
      ],
      "execution_count": 0,
      "outputs": []
    },
    {
      "cell_type": "code",
      "metadata": {
        "id": "plVs2x3dKxUB",
        "colab_type": "code",
        "colab": {}
      },
      "source": [
        "def one_hot_matrix(labels, C):\n",
        "    \"\"\"\n",
        "    Creates a matrix where the i-th row corresponds to the ith class number and the jth column\n",
        "                     corresponds to the jth training example. So if example j had a label i. Then entry (i,j) \n",
        "                     will be 1. \n",
        "                     \n",
        "    Arguments:\n",
        "    labels -- vector containing the labels \n",
        "    C -- number of classes, the depth of the one hot dimension\n",
        "    \n",
        "    Returns: \n",
        "    one_hot -- one hot matrix\n",
        "    \"\"\"\n",
        "    \n",
        "    ### START CODE HERE ###\n",
        "    \n",
        "    # Create a tf.constant equal to C (depth), name it 'C'. (approx. 1 line)\n",
        "    C = tf.constant(C,name = 'C')\n",
        "    \n",
        "    # Use tf.one_hot, be careful with the axis (approx. 1 line)\n",
        "    one_hot_matrix = tf.one_hot(labels,C,axis=0)\n",
        "    \n",
        "    # Create the session (approx. 1 line)\n",
        "    sess = tf.Session()\n",
        "    \n",
        "    # Run the session (approx. 1 line)\n",
        "    one_hot = sess.run(one_hot_matrix)\n",
        "    \n",
        "    # Close the session (approx. 1 line). See method 1 above.\n",
        "    sess.close()\n",
        "    \n",
        "    ### END CODE HERE ###\n",
        "    \n",
        "    return one_hot"
      ],
      "execution_count": 0,
      "outputs": []
    },
    {
      "cell_type": "code",
      "metadata": {
        "id": "Ql6XHLnDa9MI",
        "colab_type": "code",
        "colab": {}
      },
      "source": [
        "def convert_to_one_hot(Y, C):\n",
        "    Y = np.eye(C)[Y.reshape(-1)].T\n",
        "    return Y"
      ],
      "execution_count": 0,
      "outputs": []
    },
    {
      "cell_type": "code",
      "metadata": {
        "id": "0KXeLivWJYpp",
        "colab_type": "code",
        "colab": {
          "base_uri": "https://localhost:8080/",
          "height": 387
        },
        "outputId": "66646242-6786-4bcd-f737-9d0157011d62"
      },
      "source": [
        "X_train_orig, Y_train_orig, X_test_orig, Y_test_orig, classes = load_dataset()\n",
        "# Example of a picture\n",
        "index = 0\n",
        "plt.imshow(X_train_orig[index])\n",
        "print (\"y = \" + str(np.squeeze(Y_train_orig[:, index])))\n",
        "# Flatten the training and test images\n",
        "X_train_flatten = X_train_orig.reshape(X_train_orig.shape[0], -1).T\n",
        "X_test_flatten = X_test_orig.reshape(X_test_orig.shape[0], -1).T\n",
        "# Normalize image vectors\n",
        "X_train = X_train_flatten/255.\n",
        "X_test = X_test_flatten/255.\n",
        "# Convert training and test labels to one hot matrices\n",
        "Y_train = convert_to_one_hot(Y_train_orig, 6)\n",
        "Y_test = convert_to_one_hot(Y_test_orig, 6)\n",
        "\n",
        "print (\"number of training examples = \" + str(X_train.shape[1]))\n",
        "print (\"number of test examples = \" + str(X_test.shape[1]))\n",
        "print (\"X_train shape: \" + str(X_train.shape))\n",
        "print (\"Y_train shape: \" + str(Y_train.shape))\n",
        "print (\"X_test shape: \" + str(X_test.shape))\n",
        "print (\"Y_test shape: \" + str(Y_test.shape))"
      ],
      "execution_count": 50,
      "outputs": [
        {
          "output_type": "stream",
          "text": [
            "y = 5\n",
            "number of training examples = 1080\n",
            "number of test examples = 120\n",
            "X_train shape: (12288, 1080)\n",
            "Y_train shape: (6, 1080)\n",
            "X_test shape: (12288, 120)\n",
            "Y_test shape: (6, 120)\n"
          ],
          "name": "stdout"
        },
        {
          "output_type": "display_data",
          "data": {
            "image/png": "[encoded data removed]",
            "text/plain": [
              "<Figure size 432x288 with 1 Axes>"
            ]
          },
          "metadata": {
            "tags": [],
            "needs_background": "light"
          }
        }
      ]
    },
    {
      "cell_type": "code",
      "metadata": {
        "id": "-9iKuSRcZcfS",
        "colab_type": "code",
        "colab": {
          "base_uri": "https://localhost:8080/",
          "height": 584
        },
        "outputId": "a249bf88-8c73-4764-d596-cb245990d976"
      },
      "source": [
        "param = model(X_train,Y_train,X_test,Y_test,layer_dims = [X_train.shape[0],25,12,6,Y_train.shape[0]],optimizer = 'adam',learning_rate = 0.0001,epochs = 1500,minibatch_size = 32,print_cost = True)"
      ],
      "execution_count": 51,
      "outputs": [
        {
          "output_type": "stream",
          "text": [
            "Cost after epoch 0 is 1.9136926122009754\n",
            "Cost after epoch 100 is 1.0490445140749216\n",
            "Cost after epoch 200 is 0.7560957530513406\n",
            "Cost after epoch 300 is 0.5909789958968759\n",
            "Cost after epoch 400 is 0.4832165017724037\n",
            "Cost after epoch 500 is 0.3931409390643239\n",
            "Cost after epoch 600 is 0.32362209307029843\n",
            "Cost after epoch 700 is 0.2616363447159529\n",
            "Cost after epoch 800 is 0.21027185954153538\n",
            "Cost after epoch 900 is 0.1716550961136818\n",
            "Cost after epoch 1000 is 0.15121808787807822\n",
            "Cost after epoch 1100 is 0.11063402600120753\n",
            "Cost after epoch 1200 is 0.08940662117674947\n",
            "Cost after epoch 1300 is 0.061195615271572024\n",
            "Cost after epoch 1400 is 0.053923174273222685\n"
          ],
          "name": "stdout"
        },
        {
          "output_type": "display_data",
          "data": {
            "image/png": "[encoded data removed]",
            "text/plain": [
              "<Figure size 432x288 with 1 Axes>"
            ]
          },
          "metadata": {
            "tags": [],
            "needs_background": "light"
          }
        },
        {
          "output_type": "stream",
          "text": [
            "Train Accuracy :  99.90741014480591\n",
            "Test Accuracy :  72.50000238418579\n"
          ],
          "name": "stdout"
        }
      ]
    },
    {
      "cell_type": "code",
      "metadata": {
        "id": "YXHvucaGcO7g",
        "colab_type": "code",
        "colab": {
          "base_uri": "https://localhost:8080/",
          "height": 584
        },
        "outputId": "f7822e58-9c92-4b2d-aeb4-e8733ec24057"
      },
      "source": [
        "param = model(X_train,Y_train,X_test,Y_test,layer_dims = [X_train.shape[0],25,12,6,Y_train.shape[0]],optimizer = 'gd',learning_rate = 0.0001,epochs = 1500,minibatch_size = 64,print_cost = True)"
      ],
      "execution_count": 52,
      "outputs": [
        {
          "output_type": "stream",
          "text": [
            "Cost after epoch 0 is 0.47926212660968304\n",
            "Cost after epoch 100 is 0.4469723589718342\n",
            "Cost after epoch 200 is 0.4242153186351061\n",
            "Cost after epoch 300 is 0.4072706811130047\n",
            "Cost after epoch 400 is 0.3932181801646948\n",
            "Cost after epoch 500 is 0.38122172467410564\n",
            "Cost after epoch 600 is 0.3700461592525244\n",
            "Cost after epoch 700 is 0.3594075795263052\n",
            "Cost after epoch 800 is 0.34879497438669205\n",
            "Cost after epoch 900 is 0.339221753180027\n",
            "Cost after epoch 1000 is 0.32967206463217735\n",
            "Cost after epoch 1100 is 0.3206795044243336\n",
            "Cost after epoch 1200 is 0.3118211943656206\n",
            "Cost after epoch 1300 is 0.304268978536129\n",
            "Cost after epoch 1400 is 0.296419957652688\n"
          ],
          "name": "stdout"
        },
        {
          "output_type": "display_data",
          "data": {
            "image/png": "[encoded data removed]",
            "text/plain": [
              "<Figure size 432x288 with 1 Axes>"
            ]
          },
          "metadata": {
            "tags": [],
            "needs_background": "light"
          }
        },
        {
          "output_type": "stream",
          "text": [
            "Train Accuracy :  65.18518328666687\n",
            "Test Accuracy :  64.16666507720947\n"
          ],
          "name": "stdout"
        }
      ]
    },
    {
      "cell_type": "code",
      "metadata": {
        "id": "BxkiT-MycR_l",
        "colab_type": "code",
        "colab": {
          "base_uri": "https://localhost:8080/",
          "height": 584
        },
        "outputId": "8d71b2fc-f9ab-48d9-faa7-170ae6a6d5c5"
      },
      "source": [
        "param = model(X_train,Y_train,X_test,Y_test,layer_dims = [X_train.shape[0],25,12,6,Y_train.shape[0]],optimizer = 'adam',learning_rate = 0.0001,epochs = 1500,minibatch_size = 64,print_cost = True)"
      ],
      "execution_count": 53,
      "outputs": [
        {
          "output_type": "stream",
          "text": [
            "Cost after epoch 0 is 0.47484767995774746\n",
            "Cost after epoch 100 is 0.29589374735951424\n",
            "Cost after epoch 200 is 0.18757331930100918\n",
            "Cost after epoch 300 is 0.12285752408206463\n",
            "Cost after epoch 400 is 0.08422216051258147\n",
            "Cost after epoch 500 is 0.05859936214983463\n",
            "Cost after epoch 600 is 0.03770492447074503\n",
            "Cost after epoch 700 is 0.025599129730835557\n",
            "Cost after epoch 800 is 0.016889249556697905\n",
            "Cost after epoch 900 is 0.01119698359980248\n",
            "Cost after epoch 1000 is 0.007266175030963495\n",
            "Cost after epoch 1100 is 0.004604469184414484\n",
            "Cost after epoch 1200 is 0.0029725037020398304\n",
            "Cost after epoch 1300 is 0.0018225920284749009\n",
            "Cost after epoch 1400 is 0.0009741782778291963\n"
          ],
          "name": "stdout"
        },
        {
          "output_type": "display_data",
          "data": {
            "image/png": "[encoded data removed]",
            "text/plain": [
              "<Figure size 432x288 with 1 Axes>"
            ]
          },
          "metadata": {
            "tags": [],
            "needs_background": "light"
          }
        },
        {
          "output_type": "stream",
          "text": [
            "Train Accuracy :  100.0\n",
            "Test Accuracy :  88.33333253860474\n"
          ],
          "name": "stdout"
        }
      ]
    },
    {
      "cell_type": "code",
      "metadata": {
        "id": "ybR9yO4AcWCu",
        "colab_type": "code",
        "colab": {
          "base_uri": "https://localhost:8080/",
          "height": 584
        },
        "outputId": "a8834c82-86d4-4767-b195-985fe8a06e99"
      },
      "source": [
        "param = model(X_train,Y_train,X_test,Y_test,layer_dims = [X_train.shape[0],25,12,6,Y_train.shape[0]],optimizer = 'gd',learning_rate = 0.0001,epochs = 1500,minibatch_size = 128,print_cost = True)"
      ],
      "execution_count": 54,
      "outputs": [
        {
          "output_type": "stream",
          "text": [
            "Cost after epoch 0 is 0.126995662227273\n",
            "Cost after epoch 100 is 0.12163739837706089\n",
            "Cost after epoch 200 is 0.11735061276704073\n",
            "Cost after epoch 300 is 0.11434256471693516\n",
            "Cost after epoch 400 is 0.11095296032726765\n",
            "Cost after epoch 500 is 0.10880389530211687\n",
            "Cost after epoch 600 is 0.10701523069292307\n",
            "Cost after epoch 700 is 0.10520128160715103\n",
            "Cost after epoch 800 is 0.10286016203463078\n",
            "Cost after epoch 900 is 0.10180014092475176\n",
            "Cost after epoch 1000 is 0.09990091808140278\n",
            "Cost after epoch 1100 is 0.09799823630601168\n",
            "Cost after epoch 1200 is 0.09586437977850437\n",
            "Cost after epoch 1300 is 0.09519731625914574\n",
            "Cost after epoch 1400 is 0.09380944073200226\n"
          ],
          "name": "stdout"
        },
        {
          "output_type": "display_data",
          "data": {
            "image/png": "[encoded data removed]",
            "text/plain": [
              "<Figure size 432x288 with 1 Axes>"
            ]
          },
          "metadata": {
            "tags": [],
            "needs_background": "light"
          }
        },
        {
          "output_type": "stream",
          "text": [
            "Train Accuracy :  51.75926089286804\n",
            "Test Accuracy :  50.0\n"
          ],
          "name": "stdout"
        }
      ]
    },
    {
      "cell_type": "code",
      "metadata": {
        "id": "fpkmsy_fbKAW",
        "colab_type": "code",
        "colab": {
          "base_uri": "https://localhost:8080/",
          "height": 584
        },
        "outputId": "783d4ecb-ed5b-4d2b-c0c8-83304c69345b"
      },
      "source": [
        "param = model(X_train,Y_train,X_test,Y_test,layer_dims = [X_train.shape[0],25,12,6,Y_train.shape[0]],optimizer = 'adam',learning_rate = 0.0001,epochs = 1500,minibatch_size = 128,print_cost = True)"
      ],
      "execution_count": 55,
      "outputs": [
        {
          "output_type": "stream",
          "text": [
            "Cost after epoch 0 is 0.12693217769265175\n",
            "Cost after epoch 100 is 0.10611116420477629\n",
            "Cost after epoch 200 is 0.0883286390453577\n",
            "Cost after epoch 300 is 0.07336250599473715\n",
            "Cost after epoch 400 is 0.060215136501938105\n",
            "Cost after epoch 500 is 0.049137207213789225\n",
            "Cost after epoch 600 is 0.04109332570806146\n",
            "Cost after epoch 700 is 0.033182807033881545\n",
            "Cost after epoch 800 is 0.026922398945316672\n",
            "Cost after epoch 900 is 0.0226977220736444\n",
            "Cost after epoch 1000 is 0.019781786482781172\n",
            "Cost after epoch 1100 is 0.015932047041133046\n",
            "Cost after epoch 1200 is 0.013347978238016367\n",
            "Cost after epoch 1300 is 0.01076922391075641\n",
            "Cost after epoch 1400 is 0.0092920251772739\n"
          ],
          "name": "stdout"
        },
        {
          "output_type": "display_data",
          "data": {
            "image/png": "[encoded data removed]",
            "text/plain": [
              "<Figure size 432x288 with 1 Axes>"
            ]
          },
          "metadata": {
            "tags": [],
            "needs_background": "light"
          }
        },
        {
          "output_type": "stream",
          "text": [
            "Train Accuracy :  98.42592477798462\n",
            "Test Accuracy :  80.83333373069763\n"
          ],
          "name": "stdout"
        }
      ]
    },
    {
      "cell_type": "code",
      "metadata": {
        "id": "54EAgW355egy",
        "colab_type": "code",
        "colab": {
          "base_uri": "https://localhost:8080/",
          "height": 272
        },
        "outputId": "eacb2fa9-e3be-4c30-fdb8-977593afc615"
      },
      "source": [
        "print(X_test[:,0].shape,Y_test[:,0].shape)\n",
        "idx = 15\n",
        "p = predict(X_test[:,idx].reshape(12288,1),[12288,25,12,6,Y_test.shape[0]],param)\n",
        "np.set_printoptions(suppress =True)\n",
        "print('Prediction with probabilities','\\n',p)\n",
        "print('Prediction',np.argmax(p))\n",
        "print('Actual',Y_test[:,idx].reshape(6,1))"
      ],
      "execution_count": 87,
      "outputs": [
        {
          "output_type": "stream",
          "text": [
            "(12288,) (6,)\n",
            "Prediction with probabilities \n",
            " [[0.  ]\n",
            " [0.  ]\n",
            " [0.  ]\n",
            " [0.8 ]\n",
            " [0.01]\n",
            " [0.19]]\n",
            "Prediction 3\n",
            "Actual [[0.]\n",
            " [0.]\n",
            " [0.]\n",
            " [1.]\n",
            " [0.]\n",
            " [0.]]\n"
          ],
          "name": "stdout"
        }
      ]
    },
    {
      "cell_type": "code",
      "metadata": {
        "id": "gQRAd92o5uzb",
        "colab_type": "code",
        "colab": {}
      },
      "source": [
        ""
      ],
      "execution_count": 0,
      "outputs": []
    }
  ]
}